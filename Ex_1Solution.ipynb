{
 "cells": [
  {
   "cell_type": "code",
   "execution_count": null,
   "metadata": {
    "collapsed": true
   },
   "outputs": [],
   "source": [
    "from pymongo import MongoClient\n",
    "import urllib, json\n",
    "client = MongoClient('ds257245.mlab.com',57245)\n",
    "\n",
    "print(client)"
   ]
  },
  {
   "cell_type": "code",
   "execution_count": null,
   "metadata": {
    "collapsed": true
   },
   "outputs": [],
   "source": [
    "db = client ['test3']\n",
    "db.authenticate('aaaaa', 'aaaaa')\n",
    "print(db)"
   ]
  },
  {
   "cell_type": "code",
   "execution_count": null,
   "metadata": {
    "collapsed": true
   },
   "outputs": [],
   "source": [
    "# show all restaurants\n",
    "cursor = db.restaurants.find()\n",
    "for documents in cursor:\n",
    "    print(documents)\n",
    "    print (\"\\n\")\n",
    "cursor.rewind()    "
   ]
  },
  {
   "cell_type": "code",
   "execution_count": null,
   "metadata": {
    "collapsed": true
   },
   "outputs": [],
   "source": [
    "# show all restaurants where cuisine = steak \n",
    "cursor = db.restaurants.find({'cuisine': 'Steak'})\n",
    "for documents in cursor:\n",
    "    print(documents)\n",
    "    print (\"\\n\")\n",
    "cursor.rewind()"
   ]
  },
  {
   "cell_type": "code",
   "execution_count": null,
   "metadata": {
    "collapsed": true
   },
   "outputs": [],
   "source": [
    "# show just the name of  restaurants where cuisine = steak \n",
    "cursor.rewind()\n",
    "cursor = db.restaurants.find({}, {'name':1 , '_id':0 } )\n",
    "for documents in cursor:\n",
    "    print(documents)\n",
    "    print (\"\\n\")\n",
    "cursor.rewind()"
   ]
  },
  {
   "cell_type": "code",
   "execution_count": null,
   "metadata": {
    "collapsed": true
   },
   "outputs": [],
   "source": [
    "#total number of restaurants\n",
    "cursor = db.restaurants.count()\n",
    "print (cursor)"
   ]
  },
  {
   "cell_type": "code",
   "execution_count": null,
   "metadata": {
    "collapsed": true
   },
   "outputs": [],
   "source": [
    "#total number of restaurants where cuisine = steak\n",
    "cursor = db.restaurants.count({'cuisine': 'Steak'})\n",
    "print (cursor)"
   ]
  },
  {
   "cell_type": "code",
   "execution_count": null,
   "metadata": {
    "collapsed": true
   },
   "outputs": [],
   "source": [
    "# show the adress and the name of all restaurant that are located in Lexington Avenue\n",
    "cursor = db.restaurants.find({'address.street': 'Lexington Avenue'} , {'address':1 , 'name' : 1 })\n",
    "for documents in cursor:\n",
    "    print(documents)\n",
    "    print (\"\\n\")\n",
    "cursor.rewind()"
   ]
  },
  {
   "cell_type": "code",
   "execution_count": null,
   "metadata": {
    "collapsed": true
   },
   "outputs": [],
   "source": [
    "## where score >=30 and cuisine Steak \n",
    "cursor = db.restaurants.find({'$and': [{'grades.score': {'$gt': 30} ,'cuisine': 'Steak'}]})\n",
    "for documents in cursor:\n",
    "    print(documents)\n",
    "    print (\"\\n\")\n",
    "cursor.rewind()"
   ]
  },
  {
   "cell_type": "code",
   "execution_count": null,
   "metadata": {
    "collapsed": true
   },
   "outputs": [],
   "source": [
    "## where score >=30 or  cuisine Steak \n",
    "cursor = db.restaurants.find({'$or': [{'grades.score': {'$gt': 30} ,'cuisine': 'Steak'}]})\n",
    "for documents in cursor:\n",
    "    print(documents)\n",
    "    print (\"\\n\")\n",
    "cursor.rewind()"
   ]
  },
  {
   "cell_type": "code",
   "execution_count": null,
   "metadata": {
    "collapsed": true
   },
   "outputs": [],
   "source": [
    "cursor = db.restaurants.find({\n",
    "    '$and' : [\n",
    "        { '$or' : [ { 'cuisine' : 'Steak' },{ 'cuisine' : 'Pizza' } ] }   , \n",
    "        { 'grades.score': {'$gt': 30} }\n",
    "    ]\n",
    "} )\n",
    "for documents in cursor:\n",
    "    print(documents)\n",
    "    print (\"\\n\")\n",
    "cursor.rewind()"
   ]
  },
  {
   "cell_type": "code",
   "execution_count": null,
   "metadata": {
    "collapsed": true
   },
   "outputs": [],
   "source": []
  }
 ],
 "metadata": {
  "anaconda-cloud": {},
  "kernelspec": {
   "display_name": "Python [conda root]",
   "language": "python",
   "name": "conda-root-py"
  },
  "language_info": {
   "codemirror_mode": {
    "name": "ipython",
    "version": 3
   },
   "file_extension": ".py",
   "mimetype": "text/x-python",
   "name": "python",
   "nbconvert_exporter": "python",
   "pygments_lexer": "ipython3",
   "version": "3.5.2"
  }
 },
 "nbformat": 4,
 "nbformat_minor": 1
}
